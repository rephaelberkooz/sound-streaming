{
 "cells": [
  {
   "cell_type": "code",
   "execution_count": 18,
   "metadata": {},
   "outputs": [],
   "source": [
    "import socket\n",
    "import os\n",
    "import threading\n",
    "import wave\n",
    "import pyaudio\n",
    "import pickle\n",
    "import struct\n",
    "\n",
    "from client.py import audio_stream"
   ]
  },
  {
   "cell_type": "code",
   "execution_count": 20,
   "metadata": {},
   "outputs": [],
   "source": [
    "# get the host's name and IP address\n",
    "host_ip = socket.gethostbyname(socket.gethostname())\n",
    "port = 8080"
   ]
  }
 ],
 "metadata": {
  "kernelspec": {
   "display_name": "franclNN",
   "language": "python",
   "name": "python3"
  },
  "language_info": {
   "codemirror_mode": {
    "name": "ipython",
    "version": 3
   },
   "file_extension": ".py",
   "mimetype": "text/x-python",
   "name": "python",
   "nbconvert_exporter": "python",
   "pygments_lexer": "ipython3",
   "version": "3.11.3"
  },
  "orig_nbformat": 4
 },
 "nbformat": 4,
 "nbformat_minor": 2
}
